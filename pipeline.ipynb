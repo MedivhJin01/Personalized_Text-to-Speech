{
 "cells": [
  {
   "cell_type": "code",
   "execution_count": 1,
   "id": "82d9048f",
   "metadata": {},
   "outputs": [],
   "source": [
    "# %pip install matplotlib\n",
    "# %pip install tqdm  \n",
    "from torch.utils.data import DataLoader\n",
    "from utils.dataset import VCTKDataset\n",
    "import numpy as np\n",
    "import os\n",
    "from pathlib import Path\n",
    "import torch\n",
    "import torch.nn as nn\n",
    "from src.model.cvae_tacotron_wrapper import CVAETacotron2, cvae_taco_loss\n",
    "import argparse\n",
    "from matplotlib import pyplot as plt\n",
    "import ipywidgets\n",
    "from tqdm.notebook import tqdm\n",
    "\n"
   ]
  },
  {
   "cell_type": "code",
   "execution_count": 2,
   "id": "e8434970",
   "metadata": {},
   "outputs": [
    {
     "name": "stdout",
     "output_type": "stream",
     "text": [
      "Selected speakers: ['p323', 'p301', 'p240', 'p299', 'p225', 'p285', 'p252', 'p279', 'p287', 'p311']\n",
      "Speaker 0: p323: F, 19yo, SouthAfrican (Pretoria)\n",
      "Speaker 1: p301: F, 23yo, American (North Carolina)\n",
      "Speaker 2: p240: F, 21yo, English (Southern England)\n",
      "Speaker 3: p299: F, 25yo, American (California)\n",
      "Speaker 4: p225: F, 23yo, English (Southern England)\n",
      "Speaker 5: p285: M, 21yo, Scottish (Edinburgh)\n",
      "Speaker 6: p252: M, 22yo, Scottish (Edinburgh)\n",
      "Speaker 7: p279: M, 23yo, English (Leicester)\n",
      "Speaker 8: p287: M, 23yo, English (York)\n",
      "Speaker 9: p311: M, 21yo, American (Iowa)\n",
      "Using device: cuda\n"
     ]
    }
   ],
   "source": [
    "dataset = VCTKDataset(\"./dataset/VCTK\",)\n",
    "dataloader = DataLoader(dataset, batch_size=32, shuffle=True, num_workers=0,\n",
    "                    collate_fn=VCTKDataset.collate_cvae)\n",
    "\n",
    "device = torch.device(\"cuda\" if torch.cuda.is_available() else \"cpu\")\n",
    "print(f\"Using device: {device}\")"
   ]
  },
  {
   "cell_type": "code",
   "execution_count": 3,
   "id": "c649a531",
   "metadata": {},
   "outputs": [
    {
     "name": "stdout",
     "output_type": "stream",
     "text": [
      "Using device: cuda\n"
     ]
    },
    {
     "name": "stderr",
     "output_type": "stream",
     "text": [
      "Using cache found in C:\\Users\\jx/.cache\\torch\\hub\\NVIDIA_DeepLearningExamples_torchhub\n",
      "C:\\Users\\jx/.cache\\torch\\hub\\NVIDIA_DeepLearningExamples_torchhub\\PyTorch\\Classification\\ConvNets\\image_classification\\models\\common.py:13: UserWarning: pytorch_quantization module not found, quantization will not be available\n",
      "  warnings.warn(\n",
      "C:\\Users\\jx/.cache\\torch\\hub\\NVIDIA_DeepLearningExamples_torchhub\\PyTorch\\Classification\\ConvNets\\image_classification\\models\\efficientnet.py:17: UserWarning: pytorch_quantization module not found, quantization will not be available\n",
      "  warnings.warn(\n"
     ]
    },
    {
     "data": {
      "application/vnd.jupyter.widget-view+json": {
       "model_id": "60fc218a2066415bbfc43df2fdec978d",
       "version_major": 2,
       "version_minor": 0
      },
      "text/plain": [
       "Epoch 1/10:   0%|          | 0/122 [00:00<?, ?it/s]"
      ]
     },
     "metadata": {},
     "output_type": "display_data"
    },
    {
     "name": "stdout",
     "output_type": "stream",
     "text": [
      "[Epoch 1/10] Loss: 0.5741 | l1: 0.5407, gate: 0.0333, kl: 1.4102\n"
     ]
    },
    {
     "data": {
      "application/vnd.jupyter.widget-view+json": {
       "model_id": "75b81eee36ae4e6db70ff12ff2b8c147",
       "version_major": 2,
       "version_minor": 0
      },
      "text/plain": [
       "Epoch 2/10:   0%|          | 0/122 [00:00<?, ?it/s]"
      ]
     },
     "metadata": {},
     "output_type": "display_data"
    },
    {
     "name": "stdout",
     "output_type": "stream",
     "text": [
      "[Epoch 2/10] Loss: 0.4621 | l1: 0.4434, gate: 0.0185, kl: 2.1494\n"
     ]
    },
    {
     "data": {
      "application/vnd.jupyter.widget-view+json": {
       "model_id": "1b4c4eb9aa4d4bd8b1dcd636e7ed3d22",
       "version_major": 2,
       "version_minor": 0
      },
      "text/plain": [
       "Epoch 3/10:   0%|          | 0/122 [00:00<?, ?it/s]"
      ]
     },
     "metadata": {},
     "output_type": "display_data"
    },
    {
     "name": "stdout",
     "output_type": "stream",
     "text": [
      "[Epoch 3/10] Loss: 0.4540 | l1: 0.4358, gate: 0.0180, kl: 2.5525\n"
     ]
    },
    {
     "data": {
      "application/vnd.jupyter.widget-view+json": {
       "model_id": "6b3b7d31b0034b07a63659349f2cb4a7",
       "version_major": 2,
       "version_minor": 0
      },
      "text/plain": [
       "Epoch 4/10:   0%|          | 0/122 [00:00<?, ?it/s]"
      ]
     },
     "metadata": {},
     "output_type": "display_data"
    },
    {
     "name": "stdout",
     "output_type": "stream",
     "text": [
      "[Epoch 4/10] Loss: 0.4402 | l1: 0.4224, gate: 0.0175, kl: 2.6943\n"
     ]
    },
    {
     "data": {
      "application/vnd.jupyter.widget-view+json": {
       "model_id": "1f36112af4ed4a579b43233bbaedd560",
       "version_major": 2,
       "version_minor": 0
      },
      "text/plain": [
       "Epoch 5/10:   0%|          | 0/122 [00:00<?, ?it/s]"
      ]
     },
     "metadata": {},
     "output_type": "display_data"
    },
    {
     "name": "stdout",
     "output_type": "stream",
     "text": [
      "[Epoch 5/10] Loss: 0.4434 | l1: 0.4258, gate: 0.0172, kl: 2.7987\n"
     ]
    },
    {
     "data": {
      "application/vnd.jupyter.widget-view+json": {
       "model_id": "ed3cebd9435f40388ae4aed2a5d4f800",
       "version_major": 2,
       "version_minor": 0
      },
      "text/plain": [
       "Epoch 6/10:   0%|          | 0/122 [00:00<?, ?it/s]"
      ]
     },
     "metadata": {},
     "output_type": "display_data"
    },
    {
     "name": "stdout",
     "output_type": "stream",
     "text": [
      "[Epoch 6/10] Loss: 0.4330 | l1: 0.4157, gate: 0.0170, kl: 2.9368\n"
     ]
    },
    {
     "data": {
      "application/vnd.jupyter.widget-view+json": {
       "model_id": "4fce7cd93a2445c6b4f0e3f5e2d9ed3f",
       "version_major": 2,
       "version_minor": 0
      },
      "text/plain": [
       "Epoch 7/10:   0%|          | 0/122 [00:00<?, ?it/s]"
      ]
     },
     "metadata": {},
     "output_type": "display_data"
    },
    {
     "name": "stdout",
     "output_type": "stream",
     "text": [
      "[Epoch 7/10] Loss: 0.4314 | l1: 0.4141, gate: 0.0170, kl: 3.0108\n"
     ]
    },
    {
     "data": {
      "application/vnd.jupyter.widget-view+json": {
       "model_id": "a575f8cf4d454f84a814ec267d8bc836",
       "version_major": 2,
       "version_minor": 0
      },
      "text/plain": [
       "Epoch 8/10:   0%|          | 0/122 [00:00<?, ?it/s]"
      ]
     },
     "metadata": {},
     "output_type": "display_data"
    },
    {
     "name": "stdout",
     "output_type": "stream",
     "text": [
      "[Epoch 8/10] Loss: 0.4284 | l1: 0.4112, gate: 0.0170, kl: 3.0713\n"
     ]
    },
    {
     "data": {
      "application/vnd.jupyter.widget-view+json": {
       "model_id": "72f1ea5644c34c428a8609118f9c318f",
       "version_major": 2,
       "version_minor": 0
      },
      "text/plain": [
       "Epoch 9/10:   0%|          | 0/122 [00:00<?, ?it/s]"
      ]
     },
     "metadata": {},
     "output_type": "display_data"
    },
    {
     "name": "stdout",
     "output_type": "stream",
     "text": [
      "[Epoch 9/10] Loss: 0.4263 | l1: 0.4091, gate: 0.0169, kl: 3.2102\n"
     ]
    },
    {
     "data": {
      "application/vnd.jupyter.widget-view+json": {
       "model_id": "93d858122a6e4124b75cffab0b28e2a9",
       "version_major": 2,
       "version_minor": 0
      },
      "text/plain": [
       "Epoch 10/10:   0%|          | 0/122 [00:00<?, ?it/s]"
      ]
     },
     "metadata": {},
     "output_type": "display_data"
    },
    {
     "name": "stdout",
     "output_type": "stream",
     "text": [
      "[Epoch 10/10] Loss: 0.4303 | l1: 0.4133, gate: 0.0166, kl: 3.2480\n"
     ]
    },
    {
     "data": {
      "image/png": "[encoded data removed]",
      "text/plain": [
       "<Figure size 640x480 with 1 Axes>"
      ]
     },
     "metadata": {},
     "output_type": "display_data"
    },
    {
     "name": "stdout",
     "output_type": "stream",
     "text": [
      "Model saved to src\\model\\cvae_tacotron2_trial1.pth\n"
     ]
    }
   ],
   "source": [
    "EPOCH = 10\n",
    "BATCH_SIZE = 32\n",
    "LR = 1e-3\n",
    "\n",
    "\n",
    "\n",
    "device = torch.device(\"cuda\" if torch.cuda.is_available() else \"cpu\")\n",
    "print(f\"Using device: {device}\")\n",
    "\n",
    "model = CVAETacotron2(ckpt_path=\"./src/model/tacotron2_pretrained.pt\", z_dim=64, spk_dim_raw=256, spk_dim_proj=128)\n",
    "model.to(device)\n",
    "\n",
    "optimizer = torch.optim.Adam(model.parameters(), lr=LR)\n",
    "model.train()\n",
    "\n",
    "loss_tracker = []\n",
    "\n",
    "for epoch in range(EPOCH):\n",
    "    loss_sum = 0\n",
    "    logsum = {'l1': 0, 'gate': 0, 'kl': 0}\n",
    "\n",
    "    pbar = tqdm(dataloader, desc=f\"Epoch {epoch+1}/{EPOCH}\", leave=False, position=0, dynamic_ncols=True)\n",
    "\n",
    "    for text, text_len, mel, mel_len, gate, spk_id in pbar:\n",
    "        text, text_len = text.to(device), text_len.to(device)\n",
    "        mel, gate = mel.to(device), gate.to(device)\n",
    "        spk_emd = model.spk_emb[spk_id].to(device)\n",
    "\n",
    "        mel_post, mel_out, gate_out, mu, logvar = model(text, text_len, mel, spk_emd)\n",
    "        loss, logs = cvae_taco_loss(mel_post, mel, gate_out, gate, mu, logvar)        \n",
    "\n",
    "        optimizer.zero_grad()\n",
    "        loss.backward()\n",
    "        optimizer.step()\n",
    "\n",
    "        loss_sum += loss.item()\n",
    "        logsum['l1'] += logs['l1']\n",
    "        logsum['gate'] += logs['gate']\n",
    "        logsum['kl'] += logs['kl']\n",
    "\n",
    "        pbar.set_postfix(loss=loss.item(), l1=logs['l1'], gate=logs['gate'], kl=logs['kl'])\n",
    "\n",
    "    loss_avg = loss_sum / len(dataloader)\n",
    "    loss_tracker.append(loss_avg)\n",
    "    print(f\"[Epoch {epoch+1}/{EPOCH}] Loss: {loss_avg:.4f} | l1: {logsum['l1'] / len(dataloader):.4f}, gate: {logsum['gate'] / len(dataloader):.4f}, kl: {logsum['kl'] / len(dataloader):.4f}\")\n",
    "\n",
    "plt.plot(loss_tracker)\n",
    "plt.xlabel('Epoch')\n",
    "plt.ylabel('Loss')\n",
    "plt.title('Training Loss')\n",
    "plt.grid()\n",
    "plt.show()\n",
    "\n",
    "model_save_path = Path(\"./src/model/cvae_tacotron2_trial1.pth\")\n",
    "torch.save(model.state_dict(), model_save_path)\n",
    "print(f\"Model saved to {model_save_path}\")"
   ]
  }
 ],
 "metadata": {
  "kernelspec": {
   "display_name": ".venv (3.11.1)",
   "language": "python",
   "name": "python3"
  },
  "language_info": {
   "codemirror_mode": {
    "name": "ipython",
    "version": 3
   },
   "file_extension": ".py",
   "mimetype": "text/x-python",
   "name": "python",
   "nbconvert_exporter": "python",
   "pygments_lexer": "ipython3",
   "version": "3.11.1"
  }
 },
 "nbformat": 4,
 "nbformat_minor": 5
}
