{
 "cells": [
  {
   "cell_type": "code",
   "execution_count": 1,
   "id": "82d9048f",
   "metadata": {},
   "outputs": [],
   "source": [
    "# %pip install matplotlib\n",
    "# %pip install tqdm  \n",
    "from torch.utils.data import DataLoader\n",
    "from utils.dataset import VCTKDataset\n",
    "import numpy as np\n",
    "import os\n",
    "from pathlib import Path\n",
    "import torch\n",
    "import torch.nn as nn\n",
    "from src.model.cvae_tacotron_wrapper import CVAETacotron2, cvae_taco_loss\n",
    "import argparse\n",
    "from matplotlib import pyplot as plt\n",
    "import ipywidgets\n",
    "from tqdm.notebook import tqdm\n",
    "\n"
   ]
  },
  {
   "cell_type": "code",
   "execution_count": 2,
   "id": "e8434970",
   "metadata": {},
   "outputs": [
    {
     "name": "stdout",
     "output_type": "stream",
     "text": [
      "Selected speakers: ['p323', 'p301', 'p240', 'p299', 'p225', 'p285', 'p252', 'p279', 'p287', 'p311']\n",
      "Speaker 0: p323: F, 19yo, SouthAfrican (Pretoria)\n",
      "Speaker 1: p301: F, 23yo, American (North Carolina)\n",
      "Speaker 2: p240: F, 21yo, English (Southern England)\n",
      "Speaker 3: p299: F, 25yo, American (California)\n",
      "Speaker 4: p225: F, 23yo, English (Southern England)\n",
      "Speaker 5: p285: M, 21yo, Scottish (Edinburgh)\n",
      "Speaker 6: p252: M, 22yo, Scottish (Edinburgh)\n",
      "Speaker 7: p279: M, 23yo, English (Leicester)\n",
      "Speaker 8: p287: M, 23yo, English (York)\n",
      "Speaker 9: p311: M, 21yo, American (Iowa)\n",
      "Using device: cuda\n"
     ]
    }
   ],
   "source": [
    "dataset = VCTKDataset(\"./dataset/VCTK\",)\n",
    "dataloader = DataLoader(dataset, batch_size=32, shuffle=True, num_workers=0,\n",
    "                    collate_fn=VCTKDataset.collate_cvae)\n",
    "\n",
    "device = torch.device(\"cuda\" if torch.cuda.is_available() else \"cpu\")\n",
    "print(f\"Using device: {device}\")"
   ]
  },
  {
   "cell_type": "code",
   "execution_count": 3,
   "id": "982fe0ea",
   "metadata": {},
   "outputs": [],
   "source": [
    "# # test shape\n",
    "# for batch in dataloader:\n",
    "#     text, text_len, mel, mel_len, gate, spk_id = batch\n",
    "#     mel, gate = mel.to(device), gate.to(device)\n",
    "#     spk_id = spk_id.to(device)\n",
    "#     print(f\"mel shape: {mel.shape}, gate shape: {gate.shape}, spk_id shape: {spk_id.shape}\")\n",
    "#     if mel.shape[1] != 80:\n",
    "#         raise ValueError(f\"Expected mel shape [B, 80, T], got {mel.shape}\")\n",
    "    "
   ]
  },
  {
   "cell_type": "code",
   "execution_count": 4,
   "id": "c649a531",
   "metadata": {},
   "outputs": [
    {
     "name": "stdout",
     "output_type": "stream",
     "text": [
      "device = cuda\n"
     ]
    },
    {
     "name": "stderr",
     "output_type": "stream",
     "text": [
      "Using cache found in C:\\Users\\jx/.cache\\torch\\hub\\NVIDIA_DeepLearningExamples_torchhub\n",
      "C:\\Users\\jx/.cache\\torch\\hub\\NVIDIA_DeepLearningExamples_torchhub\\PyTorch\\Classification\\ConvNets\\image_classification\\models\\common.py:13: UserWarning: pytorch_quantization module not found, quantization will not be available\n",
      "  warnings.warn(\n",
      "C:\\Users\\jx/.cache\\torch\\hub\\NVIDIA_DeepLearningExamples_torchhub\\PyTorch\\Classification\\ConvNets\\image_classification\\models\\efficientnet.py:17: UserWarning: pytorch_quantization module not found, quantization will not be available\n",
      "  warnings.warn(\n"
     ]
    },
    {
     "data": {
      "application/vnd.jupyter.widget-view+json": {
       "model_id": "cf09621458764fffbfd62cb7d4fc8f81",
       "version_major": 2,
       "version_minor": 0
      },
      "text/plain": [
       "[1/10]:   0%|          | 0/122 [00:00<?, ?it/s]"
      ]
     },
     "metadata": {},
     "output_type": "display_data"
    },
    {
     "name": "stdout",
     "output_type": "stream",
     "text": [
      "Epoch 1: loss 0.6409 | l1 0.594 | gate 0.047 | kl 1.14139\n"
     ]
    },
    {
     "data": {
      "application/vnd.jupyter.widget-view+json": {
       "model_id": "b74cab866787409db7ee1055e5bfe93f",
       "version_major": 2,
       "version_minor": 0
      },
      "text/plain": [
       "[2/10]:   0%|          | 0/122 [00:00<?, ?it/s]"
      ]
     },
     "metadata": {},
     "output_type": "display_data"
    },
    {
     "name": "stdout",
     "output_type": "stream",
     "text": [
      "Epoch 2: loss 0.4765 | l1 0.457 | gate 0.019 | kl 2.41098\n"
     ]
    },
    {
     "data": {
      "application/vnd.jupyter.widget-view+json": {
       "model_id": "ed13c001616d470298661d6f588ed119",
       "version_major": 2,
       "version_minor": 0
      },
      "text/plain": [
       "[3/10]:   0%|          | 0/122 [00:00<?, ?it/s]"
      ]
     },
     "metadata": {},
     "output_type": "display_data"
    },
    {
     "name": "stdout",
     "output_type": "stream",
     "text": [
      "Epoch 3: loss 0.4567 | l1 0.438 | gate 0.019 | kl 2.81475\n"
     ]
    },
    {
     "data": {
      "application/vnd.jupyter.widget-view+json": {
       "model_id": "f78626e977494107b92b7620a9dfe889",
       "version_major": 2,
       "version_minor": 0
      },
      "text/plain": [
       "[4/10]:   0%|          | 0/122 [00:00<?, ?it/s]"
      ]
     },
     "metadata": {},
     "output_type": "display_data"
    },
    {
     "name": "stdout",
     "output_type": "stream",
     "text": [
      "Epoch 4: loss 0.4468 | l1 0.429 | gate 0.018 | kl 3.12665\n"
     ]
    },
    {
     "data": {
      "application/vnd.jupyter.widget-view+json": {
       "model_id": "9df53ad1f2f44b869921ff6c9ae6ff27",
       "version_major": 2,
       "version_minor": 0
      },
      "text/plain": [
       "[5/10]:   0%|          | 0/122 [00:00<?, ?it/s]"
      ]
     },
     "metadata": {},
     "output_type": "display_data"
    },
    {
     "name": "stdout",
     "output_type": "stream",
     "text": [
      "Epoch 5: loss 0.4413 | l1 0.424 | gate 0.018 | kl 3.36021\n"
     ]
    },
    {
     "data": {
      "application/vnd.jupyter.widget-view+json": {
       "model_id": "398b5906b13e440ab916df7af38b3297",
       "version_major": 2,
       "version_minor": 0
      },
      "text/plain": [
       "[6/10]:   0%|          | 0/122 [00:00<?, ?it/s]"
      ]
     },
     "metadata": {},
     "output_type": "display_data"
    },
    {
     "name": "stdout",
     "output_type": "stream",
     "text": [
      "Epoch 6: loss 0.4414 | l1 0.424 | gate 0.018 | kl 3.54591\n"
     ]
    },
    {
     "data": {
      "application/vnd.jupyter.widget-view+json": {
       "model_id": "60237996b5bd4ebea17c9f8aa3d96152",
       "version_major": 2,
       "version_minor": 0
      },
      "text/plain": [
       "[7/10]:   0%|          | 0/122 [00:00<?, ?it/s]"
      ]
     },
     "metadata": {},
     "output_type": "display_data"
    },
    {
     "name": "stdout",
     "output_type": "stream",
     "text": [
      "Epoch 7: loss 0.4389 | l1 0.421 | gate 0.018 | kl 3.60262\n"
     ]
    },
    {
     "data": {
      "application/vnd.jupyter.widget-view+json": {
       "model_id": "c795adb444af405ba5f59e1f79abcf58",
       "version_major": 2,
       "version_minor": 0
      },
      "text/plain": [
       "[8/10]:   0%|          | 0/122 [00:00<?, ?it/s]"
      ]
     },
     "metadata": {},
     "output_type": "display_data"
    },
    {
     "name": "stdout",
     "output_type": "stream",
     "text": [
      "Epoch 8: loss 0.4367 | l1 0.419 | gate 0.018 | kl 3.72747\n"
     ]
    },
    {
     "data": {
      "application/vnd.jupyter.widget-view+json": {
       "model_id": "6799d2d7cbf345c5a952d9a3f4ca8ab4",
       "version_major": 2,
       "version_minor": 0
      },
      "text/plain": [
       "[9/10]:   0%|          | 0/122 [00:00<?, ?it/s]"
      ]
     },
     "metadata": {},
     "output_type": "display_data"
    },
    {
     "name": "stdout",
     "output_type": "stream",
     "text": [
      "Epoch 9: loss 0.4415 | l1 0.424 | gate 0.018 | kl 3.87198\n"
     ]
    },
    {
     "data": {
      "application/vnd.jupyter.widget-view+json": {
       "model_id": "cb755d2dd2a24d7298ba339befa5fa09",
       "version_major": 2,
       "version_minor": 0
      },
      "text/plain": [
       "[10/10]:   0%|          | 0/122 [00:00<?, ?it/s]"
      ]
     },
     "metadata": {},
     "output_type": "display_data"
    },
    {
     "name": "stdout",
     "output_type": "stream",
     "text": [
      "Epoch 10: loss 0.4345 | l1 0.417 | gate 0.017 | kl 3.81364\n"
     ]
    },
    {
     "data": {
      "image/png": "[encoded data removed]",
      "text/plain": [
       "<Figure size 640x480 with 1 Axes>"
      ]
     },
     "metadata": {},
     "output_type": "display_data"
    },
    {
     "name": "stdout",
     "output_type": "stream",
     "text": [
      "✅ saved to src\\model\\cvae_tacotron2_trial1.pth\n"
     ]
    }
   ],
   "source": [
    "EPOCHS      = 10\n",
    "BATCH_SIZE  = 32\n",
    "LR          = 2e-4           \n",
    "CLIP_GRAD   = 1.0\n",
    "BETA_MAX    = 1e-4\n",
    "BETA_START  = 1e-6\n",
    "BETA_WARMUP = 50_000       \n",
    "\n",
    "device = torch.device(\"cuda\" if torch.cuda.is_available() else \"cpu\")\n",
    "print(\"device =\", device)\n",
    "\n",
    "model = CVAETacotron2(\n",
    "    ckpt_path=\"src/model/check_points/tacotron2_pretrained.pt\",\n",
    "    z_dim=64, spk_dim_raw=256, spk_dim_proj=128\n",
    ").to(device).train()\n",
    "\n",
    "# only train the ref_enc, spk_proj, and cond_proj\n",
    "trainable_params = list(model.ref_enc.parameters()) \\\n",
    "                 + list(model.spk_proj.parameters()) \\\n",
    "                 + list(model.cond_proj.parameters())\n",
    "optimizer = torch.optim.AdamW(trainable_params, lr=LR, weight_decay=1e-6)\n",
    "\n",
    "global_step = 0\n",
    "loss_curve  = []\n",
    "\n",
    "for epoch in range(1, EPOCHS+1):\n",
    "    epoch_loss = 0\n",
    "    l1_sum = gate_sum = kl_sum = 0\n",
    "\n",
    "    pbar = tqdm(dataloader, desc=f\"[{epoch}/{EPOCHS}]\", leave=False)\n",
    "    for batch in pbar:\n",
    "        text, text_len, mel, mel_len, gate, spk_id = batch\n",
    "        text, text_len = text.to(device), text_len.to(device)\n",
    "        gate  =  gate.to(device)\n",
    "        if mel.shape[1] != 80:          # [B,T,80] -> [B,80,T]\n",
    "            mel = mel.permute(0, 2, 1)\n",
    "        mel = mel.to(device)       \n",
    "        \n",
    "\n",
    "        # ---------- speaker embedding ----------\n",
    "        spk_embed_raw = model.spk_emb[spk_id.to(device)] # [B, 256]\n",
    "\n",
    "        # ---------- forward ----------\n",
    "        mel_post, mel_out, gate_out, mu, logvar = model(\n",
    "            text, text_len, mel, spk_embed_raw\n",
    "        )\n",
    "\n",
    "        # ---------- KL weight ----------\n",
    "        beta = min(BETA_MAX,\n",
    "                   BETA_START + global_step / BETA_WARMUP * (BETA_MAX - BETA_START))\n",
    "\n",
    "        loss, logs = cvae_taco_loss(mel_post, mel, gate_out, gate, mu, logvar, beta=beta)\n",
    "\n",
    "        optimizer.zero_grad(set_to_none=True)\n",
    "        loss.backward()\n",
    "        torch.nn.utils.clip_grad_norm_(trainable_params, CLIP_GRAD)\n",
    "        optimizer.step()\n",
    "\n",
    "        global_step += 1\n",
    "        epoch_loss += loss.item()\n",
    "        l1_sum   += logs['l1']\n",
    "        gate_sum += logs['gate']\n",
    "        kl_sum   += logs['kl']\n",
    "\n",
    "      \n",
    "        pbar.set_postfix(loss=loss.item(), l1=logs['l1'], gate=logs['gate'], kl=logs['kl'])\n",
    "\n",
    "\n",
    "    avg = lambda x: x / len(dataloader)\n",
    "    print(f\"Epoch {epoch}: loss {avg(epoch_loss):.4f} | \"\n",
    "          f\"l1 {avg(l1_sum):.3f} | gate {avg(gate_sum):.3f} | kl {avg(kl_sum):.5f}\")\n",
    "\n",
    "    loss_curve.append(avg(epoch_loss))\n",
    "\n",
    "plt.figure()\n",
    "plt.plot(loss_curve, marker='o')\n",
    "plt.xlabel(\"Epoch\"); plt.ylabel(\"Avg Loss\"); plt.title(\"C-VAE Tacotron2 Training\"); plt.grid()\n",
    "plt.show()\n",
    "\n",
    "model_path = Path(\"src/model/cvae_tacotron2_trial1.pth\")\n",
    "torch.save(model.state_dict(), model_path)\n",
    "print(\"✅ saved to\", model_path)"
   ]
  }
 ],
 "metadata": {
  "kernelspec": {
   "display_name": ".venv (3.11.1)",
   "language": "python",
   "name": "python3"
  },
  "language_info": {
   "codemirror_mode": {
    "name": "ipython",
    "version": 3
   },
   "file_extension": ".py",
   "mimetype": "text/x-python",
   "name": "python",
   "nbconvert_exporter": "python",
   "pygments_lexer": "ipython3",
   "version": "3.11.1"
  }
 },
 "nbformat": 4,
 "nbformat_minor": 5
}
