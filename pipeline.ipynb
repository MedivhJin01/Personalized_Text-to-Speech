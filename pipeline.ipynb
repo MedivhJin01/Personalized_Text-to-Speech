{
 "cells": [
  {
   "cell_type": "code",
   "execution_count": 1,
   "id": "82d9048f",
   "metadata": {},
   "outputs": [],
   "source": [
    "from torch.utils.data import DataLoader\n",
    "from utils.dataset import VCTKDataset\n",
    "\n"
   ]
  },
  {
   "cell_type": "code",
   "execution_count": 4,
   "id": "e8434970",
   "metadata": {},
   "outputs": [
    {
     "name": "stdout",
     "output_type": "stream",
     "text": [
      "Selected speakers: ['p272', 'p298', 'p271', 'p273', 'p232', 'p225', 'p333', 'p240', 'p297', 'p308']\n",
      "speaker info: {0: 'p272: M, 23yo, Scottish (Edinburgh)', 1: 'p298: M, 19yo, Irish (Tipperary)', 2: 'p271: M, 19yo, Scottish (Fife)', 3: 'p273: M, 23yo, English (Suffolk)', 4: 'p232: M, 23yo, English (Southern England)', 5: 'p225: F, 23yo, English (Southern England)', 6: 'p333: F, 19yo, American (Indiana)', 7: 'p240: F, 21yo, English (Southern England)', 8: 'p297: F, 20yo, American (New York)', 9: 'p308: F, 18yo, American (Alabama)'}\n"
     ]
    }
   ],
   "source": [
    "dataset = VCTKDataset(\"./dataset/VCTK\",)\n",
    "loader = DataLoader(dataset, batch_size=32, shuffle=True, num_workers=4,\n",
    "                    collate_fn=VCTKDataset.collate_cvae)\n"
   ]
  },
  {
   "cell_type": "code",
   "execution_count": 6,
   "id": "52197cb1",
   "metadata": {},
   "outputs": [
    {
     "name": "stdout",
     "output_type": "stream",
     "text": [
      "text: torch.Size([32, 119]), text_len: torch.Size([32]), mel: torch.Size([32, 80, 568]), mel_len: torch.Size([32]), gate: torch.Size([32, 568]), spk: torch.Size([32])\n"
     ]
    }
   ],
   "source": [
    "for batch in loader:\n",
    "    text, text_len, mel, mel_len, gate, spk = batch\n",
    "    print(f\"text: {text.shape}, text_len: {text_len.shape}, mel: {mel.shape}, mel_len: {mel_len.shape}, gate: {gate.shape}, spk: {spk.shape}\")\n",
    "    break  # Remove this line to iterate through the entire dataset\n",
    "    "
   ]
  }
 ],
 "metadata": {
  "kernelspec": {
   "display_name": ".venv (3.11.1)",
   "language": "python",
   "name": "python3"
  },
  "language_info": {
   "codemirror_mode": {
    "name": "ipython",
    "version": 3
   },
   "file_extension": ".py",
   "mimetype": "text/x-python",
   "name": "python",
   "nbconvert_exporter": "python",
   "pygments_lexer": "ipython3",
   "version": "3.11.1"
  }
 },
 "nbformat": 4,
 "nbformat_minor": 5
}
