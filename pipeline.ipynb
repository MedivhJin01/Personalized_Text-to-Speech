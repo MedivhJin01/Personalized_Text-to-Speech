{
 "cells": [
  {
   "cell_type": "code",
   "execution_count": 1,
   "id": "82d9048f",
   "metadata": {},
   "outputs": [],
   "source": [
    "from torch.utils.data import DataLoader\n",
    "from utils.dataset_vctk import VCTK_Dataset\n",
    "\n"
   ]
  },
  {
   "cell_type": "code",
   "execution_count": 2,
   "id": "e8434970",
   "metadata": {},
   "outputs": [],
   "source": [
    "dataset = VCTK_Dataset(\"./dataset/VCTK\", limit_speakers=10)\n",
    "loader = DataLoader(dataset, batch_size=32, shuffle=True, num_workers=4,\n",
    "                    collate_fn=VCTK_Dataset.collate_fn)\n"
   ]
  },
  {
   "cell_type": "code",
   "execution_count": 11,
   "id": "52197cb1",
   "metadata": {},
   "outputs": [
    {
     "name": "stdout",
     "output_type": "stream",
     "text": [
      "pad Text shape: torch.Size([32, 68]), pad Mel shape: torch.Size([32, 80, 471]), Speaker IDs: tensor([8, 4, 8, 7, 6, 7, 2, 6, 2, 3, 4, 6, 8, 4, 1, 2, 6, 6, 7, 2, 9, 4, 8, 4,\n",
      "        5, 8, 6, 3, 6, 2, 1, 6])\n",
      "Text lengths: tensor([22, 66, 56, 49, 25, 21, 20, 12, 24, 14, 17, 41, 49, 34, 21, 31, 27, 65,\n",
      "        68, 60, 67, 26, 63, 31, 41, 58, 26, 61, 37, 22, 44, 25]), Mel lengths: tensor([219, 366, 319, 265, 196, 190, 203, 172, 216, 201, 152, 247, 281, 258,\n",
      "        182, 230, 187, 294, 369, 471, 346, 227, 357, 203, 336, 327, 189, 465,\n",
      "        218, 217, 333, 199])\n"
     ]
    }
   ],
   "source": [
    "for batch in loader:\n",
    "    text_pad, text_lens, mel_pad, mel_lens, spk_ids = batch\n",
    "    print(f\"pad Text shape: {text_pad.shape}, pad Mel shape: {mel_pad.shape}, Speaker IDs: {spk_ids}\")\n",
    "    print(f\"Text lengths: {text_lens}, Mel lengths: {mel_lens}\")\n",
    "    break  # Just to test the first batch"
   ]
  }
 ],
 "metadata": {
  "kernelspec": {
   "display_name": ".venv",
   "language": "python",
   "name": "python3"
  },
  "language_info": {
   "codemirror_mode": {
    "name": "ipython",
    "version": 3
   },
   "file_extension": ".py",
   "mimetype": "text/x-python",
   "name": "python",
   "nbconvert_exporter": "python",
   "pygments_lexer": "ipython3",
   "version": "3.13.5"
  }
 },
 "nbformat": 4,
 "nbformat_minor": 5
}
