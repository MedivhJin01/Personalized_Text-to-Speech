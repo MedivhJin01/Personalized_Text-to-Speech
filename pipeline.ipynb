{
 "cells": [
  {
   "cell_type": "code",
   "execution_count": 1,
   "id": "82d9048f",
   "metadata": {},
   "outputs": [],
   "source": [
    "# %pip install matplotlib\n",
    "# %pip install tqdm  \n",
    "from torch.utils.data import DataLoader\n",
    "from utils.dataset import VCTKDataset\n",
    "import numpy as np\n",
    "import os\n",
    "from pathlib import Path\n",
    "import torch\n",
    "import torch.nn as nn\n",
    "from src.model.cvae_tacotron_wrapper import CVAETacotron2, cvae_taco_loss\n",
    "import argparse\n",
    "from matplotlib import pyplot as plt\n",
    "import ipywidgets\n",
    "from tqdm.notebook import tqdm\n",
    "\n"
   ]
  },
  {
   "cell_type": "code",
   "execution_count": 2,
   "id": "e8434970",
   "metadata": {},
   "outputs": [
    {
     "name": "stdout",
     "output_type": "stream",
     "text": [
      "Selected speakers: ['p323', 'p301', 'p240', 'p299', 'p225', 'p285', 'p252', 'p279', 'p287', 'p311']\n",
      "Speaker 0: p323: F, 19yo, SouthAfrican (Pretoria)\n",
      "Speaker 1: p301: F, 23yo, American (North Carolina)\n",
      "Speaker 2: p240: F, 21yo, English (Southern England)\n",
      "Speaker 3: p299: F, 25yo, American (California)\n",
      "Speaker 4: p225: F, 23yo, English (Southern England)\n",
      "Speaker 5: p285: M, 21yo, Scottish (Edinburgh)\n",
      "Speaker 6: p252: M, 22yo, Scottish (Edinburgh)\n",
      "Speaker 7: p279: M, 23yo, English (Leicester)\n",
      "Speaker 8: p287: M, 23yo, English (York)\n",
      "Speaker 9: p311: M, 21yo, American (Iowa)\n",
      "Using device: cuda\n"
     ]
    }
   ],
   "source": [
    "dataset = VCTKDataset(\"./dataset/VCTK\",)\n",
    "dataloader = DataLoader(dataset, batch_size=32, shuffle=True, num_workers=0,\n",
    "                    collate_fn=VCTKDataset.collate_cvae)\n",
    "\n",
    "device = torch.device(\"cuda\" if torch.cuda.is_available() else \"cpu\")\n",
    "print(f\"Using device: {device}\")"
   ]
  },
  {
   "cell_type": "code",
   "execution_count": 3,
   "id": "c649a531",
   "metadata": {},
   "outputs": [
    {
     "name": "stdout",
     "output_type": "stream",
     "text": [
      "Using device: cuda\n"
     ]
    },
    {
     "name": "stderr",
     "output_type": "stream",
     "text": [
      "Using cache found in C:\\Users\\jx/.cache\\torch\\hub\\NVIDIA_DeepLearningExamples_torchhub\n",
      "C:\\Users\\jx/.cache\\torch\\hub\\NVIDIA_DeepLearningExamples_torchhub\\PyTorch\\Classification\\ConvNets\\image_classification\\models\\common.py:13: UserWarning: pytorch_quantization module not found, quantization will not be available\n",
      "  warnings.warn(\n",
      "C:\\Users\\jx/.cache\\torch\\hub\\NVIDIA_DeepLearningExamples_torchhub\\PyTorch\\Classification\\ConvNets\\image_classification\\models\\efficientnet.py:17: UserWarning: pytorch_quantization module not found, quantization will not be available\n",
      "  warnings.warn(\n"
     ]
    },
    {
     "data": {
      "application/vnd.jupyter.widget-view+json": {
       "model_id": "12d13a4f9e9a467b8fb087c044ed11a2",
       "version_major": 2,
       "version_minor": 0
      },
      "text/plain": [
       "Epoch 1/10:   0%|          | 0/122 [00:00<?, ?it/s]"
      ]
     },
     "metadata": {},
     "output_type": "display_data"
    },
    {
     "name": "stdout",
     "output_type": "stream",
     "text": [
      "Processing batch with text length tensor([ 48,  60,  47,  53,  42,  30,  34,  36,  55,  65,  30,  47,  33,  37,\n",
      "         31,  91,  54,  34,  55,  28,  47,  31,  31,  40,  28,  29,  24,  34,\n",
      "         28,  60,  44, 159]) and mel length tensor([315, 313, 335, 292, 366, 233, 203, 292, 372, 392, 204, 335, 213, 255,\n",
      "        220, 507, 460, 263, 280, 265, 258, 256, 412, 375, 181, 272, 240, 263,\n",
      "        162, 450, 394, 783])\n",
      "[Epoch 1/10] Loss: 0.0137 | l1: 0.0089, gate: 0.0048, kl: 0.0005\n"
     ]
    },
    {
     "data": {
      "application/vnd.jupyter.widget-view+json": {
       "model_id": "0b5a69614388476e8f0e6ee9f5554a51",
       "version_major": 2,
       "version_minor": 0
      },
      "text/plain": [
       "Epoch 2/10:   0%|          | 0/122 [00:00<?, ?it/s]"
      ]
     },
     "metadata": {},
     "output_type": "display_data"
    },
    {
     "name": "stdout",
     "output_type": "stream",
     "text": [
      "Processing batch with text length tensor([22, 54, 62, 33, 69, 26, 61, 66, 39, 22, 20, 73, 26, 59, 15, 32, 22, 60,\n",
      "        56, 44, 70, 20, 24, 23, 28, 39, 26, 51, 43, 39, 36, 27]) and mel length tensor([196, 385, 370, 265, 485, 244, 287, 353, 272, 214, 217, 436, 229, 416,\n",
      "        163, 298, 180, 374, 299, 343, 352, 170, 207, 214, 210, 243, 201, 309,\n",
      "        431, 292, 280, 269])\n",
      "[Epoch 2/10] Loss: 0.0163 | l1: 0.0113, gate: 0.0050, kl: 0.0016\n"
     ]
    },
    {
     "data": {
      "application/vnd.jupyter.widget-view+json": {
       "model_id": "7a63e2289ffa4715be2f8df12b5752b8",
       "version_major": 2,
       "version_minor": 0
      },
      "text/plain": [
       "Epoch 3/10:   0%|          | 0/122 [00:00<?, ?it/s]"
      ]
     },
     "metadata": {},
     "output_type": "display_data"
    },
    {
     "name": "stdout",
     "output_type": "stream",
     "text": [
      "Processing batch with text length tensor([ 34,  51,  25, 179,  44,  27,  45,  66,  44, 117,  50,  30,  50,  34,\n",
      "         45,  33,  35,  30,  24,  52,  28,  32,  29,  55,  43,  26,  67,  35,\n",
      "         39,  25,  33,  33]) and mel length tensor([258, 306, 181, 852, 273, 295, 270, 456, 297, 694, 321, 253, 317, 258,\n",
      "        251, 258, 331, 246, 220, 271, 288, 275, 228, 306, 298, 226, 320, 296,\n",
      "        276, 190, 240, 301])\n",
      "[Epoch 3/10] Loss: 0.0083 | l1: 0.0066, gate: 0.0017, kl: 0.0016\n"
     ]
    },
    {
     "data": {
      "application/vnd.jupyter.widget-view+json": {
       "model_id": "63b395a842264f1dafc2e8aa737b4361",
       "version_major": 2,
       "version_minor": 0
      },
      "text/plain": [
       "Epoch 4/10:   0%|          | 0/122 [00:00<?, ?it/s]"
      ]
     },
     "metadata": {},
     "output_type": "display_data"
    },
    {
     "name": "stdout",
     "output_type": "stream",
     "text": [
      "Processing batch with text length tensor([27, 26, 28, 31, 35, 91, 31, 27, 30, 34, 30, 25, 19, 46, 17, 24, 51, 15,\n",
      "        65, 61, 42, 65, 40, 64, 21, 43, 42, 54, 56, 12, 64, 46]) and mel length tensor([295, 204, 322, 263, 284, 449, 299, 201, 206, 228, 273, 359, 170, 284,\n",
      "        204, 188, 298, 155, 321, 304, 307, 425, 298, 339, 195, 376, 339, 310,\n",
      "        565, 204, 331, 266])\n",
      "[Epoch 4/10] Loss: 0.0116 | l1: 0.0090, gate: 0.0026, kl: 0.0027\n"
     ]
    },
    {
     "data": {
      "application/vnd.jupyter.widget-view+json": {
       "model_id": "a0161c5608f84528a81f7ebe36a346ac",
       "version_major": 2,
       "version_minor": 0
      },
      "text/plain": [
       "Epoch 5/10:   0%|          | 0/122 [00:00<?, ?it/s]"
      ]
     },
     "metadata": {},
     "output_type": "display_data"
    },
    {
     "name": "stdout",
     "output_type": "stream",
     "text": [
      "Processing batch with text length tensor([104,  65,  13,  30,  26,  54,  21,  56,  38,  47,  48,  57,  40,  64,\n",
      "         24,  50,  46,  39,  29,  18,  42,  31,  25,  28,  34,  18,  61,  22,\n",
      "         66,  17,  26,  11]) and mel length tensor([545, 313, 115, 237, 201, 328, 189, 277, 302, 409, 313, 326, 230, 305,\n",
      "        210, 313, 401, 368, 188, 213, 263, 203, 198, 226, 269, 205, 283, 247,\n",
      "        422, 167, 196, 166])\n",
      "[Epoch 5/10] Loss: 0.0127 | l1: 0.0087, gate: 0.0040, kl: 0.0029\n"
     ]
    },
    {
     "data": {
      "application/vnd.jupyter.widget-view+json": {
       "model_id": "0b95313c4f88481da3df285ecef8963f",
       "version_major": 2,
       "version_minor": 0
      },
      "text/plain": [
       "Epoch 6/10:   0%|          | 0/122 [00:00<?, ?it/s]"
      ]
     },
     "metadata": {},
     "output_type": "display_data"
    },
    {
     "name": "stdout",
     "output_type": "stream",
     "text": [
      "Processing batch with text length tensor([34, 63, 45, 43, 45, 26, 27, 20, 25, 39, 36, 32, 53, 54, 88, 40, 34, 22,\n",
      "        54, 32, 65, 51, 56, 31, 24, 21, 64, 47, 28, 26, 18, 33]) and mel length tensor([288, 432, 391, 284, 361, 219, 258, 190, 223, 322, 245, 251, 420, 284,\n",
      "        471, 376, 314, 221, 312, 295, 313, 482, 405, 196, 181, 273, 340, 238,\n",
      "        273, 256, 148, 231])\n",
      "[Epoch 6/10] Loss: 0.0089 | l1: 0.0080, gate: 0.0009, kl: 0.0034\n"
     ]
    },
    {
     "data": {
      "application/vnd.jupyter.widget-view+json": {
       "model_id": "fb97ce1593d04558a5152d677e3c1e01",
       "version_major": 2,
       "version_minor": 0
      },
      "text/plain": [
       "Epoch 7/10:   0%|          | 0/122 [00:00<?, ?it/s]"
      ]
     },
     "metadata": {},
     "output_type": "display_data"
    },
    {
     "name": "stdout",
     "output_type": "stream",
     "text": [
      "Processing batch with text length tensor([ 27,  51,  22,  37,  50,  27,  29, 103,  36,  41,  72,  42,  38,  28,\n",
      "         28,  57,  37,  30,  20,  46,  11,  20,  71,  26, 112,  40,  56,  36,\n",
      "        119,  41,  32,  28]) and mel length tensor([232, 322, 276, 236, 337, 217, 221, 634, 236, 269, 502, 273, 338, 211,\n",
      "        218, 287, 265, 253, 212, 243, 166, 163, 362, 187, 651, 262, 346, 280,\n",
      "        640, 269, 266, 247])\n",
      "[Epoch 7/10] Loss: 0.0078 | l1: 0.0072, gate: 0.0006, kl: 0.0040\n"
     ]
    },
    {
     "data": {
      "application/vnd.jupyter.widget-view+json": {
       "model_id": "3b4386aede7740d18fbd5e5d70dd9150",
       "version_major": 2,
       "version_minor": 0
      },
      "text/plain": [
       "Epoch 8/10:   0%|          | 0/122 [00:00<?, ?it/s]"
      ]
     },
     "metadata": {},
     "output_type": "display_data"
    },
    {
     "name": "stdout",
     "output_type": "stream",
     "text": [
      "Processing batch with text length tensor([119,  41,  37,  26,  26,  43,  19,  27,  57,  62,  68,  16,  28,  26,\n",
      "         44,  44,  44,  30,  23,  21,  42,  37,  32,  29,  28,  42,  35,  43,\n",
      "         62,  20,  30,  33]) and mel length tensor([552, 272, 346, 183, 265, 275, 199, 177, 368, 498, 482, 170, 245, 230,\n",
      "        241, 262, 287, 202, 210, 205, 361, 247, 279, 221, 206, 313, 283, 282,\n",
      "        291, 240, 382, 309])\n",
      "[Epoch 8/10] Loss: 0.0070 | l1: 0.0066, gate: 0.0004, kl: 0.0048\n"
     ]
    },
    {
     "data": {
      "application/vnd.jupyter.widget-view+json": {
       "model_id": "f57aca2243dc46be9e4a7d9acb9926cd",
       "version_major": 2,
       "version_minor": 0
      },
      "text/plain": [
       "Epoch 9/10:   0%|          | 0/122 [00:00<?, ?it/s]"
      ]
     },
     "metadata": {},
     "output_type": "display_data"
    },
    {
     "name": "stdout",
     "output_type": "stream",
     "text": [
      "Processing batch with text length tensor([48, 15, 64, 20, 60, 29, 28, 66, 76, 31, 38, 34, 65, 36, 40, 38, 36, 88,\n",
      "        63, 41, 69, 32, 30, 17, 55, 30, 39, 33, 40, 31, 69, 36]) and mel length tensor([390, 188, 427, 148, 313, 192, 225, 432, 470, 225, 338, 256, 425, 337,\n",
      "        263, 309, 258, 471, 300, 327, 408, 298, 251, 199, 351, 306, 236, 350,\n",
      "        306, 330, 408, 229])\n",
      "[Epoch 9/10] Loss: 0.0076 | l1: 0.0072, gate: 0.0004, kl: 0.0053\n"
     ]
    },
    {
     "data": {
      "application/vnd.jupyter.widget-view+json": {
       "model_id": "565622eb7f5e444598262a7c85b277da",
       "version_major": 2,
       "version_minor": 0
      },
      "text/plain": [
       "Epoch 10/10:   0%|          | 0/122 [00:00<?, ?it/s]"
      ]
     },
     "metadata": {},
     "output_type": "display_data"
    },
    {
     "name": "stdout",
     "output_type": "stream",
     "text": [
      "Processing batch with text length tensor([179,  67,  43,  52,  36,  21,  37,  31,  51,  42,  38,  41,  44,  49,\n",
      "         28,  46,  45,  73,  49,  41,  21,  33,  15,  56,  26,  31,  17,  33,\n",
      "         30,  16,  73,  42]) and mel length tensor([977, 379, 378, 306, 269, 185, 375, 203, 433, 306, 324, 250, 276, 327,\n",
      "        225, 458, 350, 414, 236, 286, 294, 203, 140, 368, 223, 224, 179, 354,\n",
      "        326, 140, 334, 419])\n",
      "[Epoch 10/10] Loss: 0.0049 | l1: 0.0047, gate: 0.0002, kl: 0.0048\n"
     ]
    },
    {
     "data": {
      "image/png": "[encoded data removed]",
      "text/plain": [
       "<Figure size 640x480 with 1 Axes>"
      ]
     },
     "metadata": {},
     "output_type": "display_data"
    },
    {
     "name": "stdout",
     "output_type": "stream",
     "text": [
      "Model saved to src\\model\\cvae_tacotron2_trial1.pth\n"
     ]
    }
   ],
   "source": [
    "EPOCH = 10\n",
    "BATCH_SIZE = 32\n",
    "LR = 1e-3\n",
    "\n",
    "\n",
    "\n",
    "device = torch.device(\"cuda\" if torch.cuda.is_available() else \"cpu\")\n",
    "print(f\"Using device: {device}\")\n",
    "\n",
    "model = CVAETacotron2(ckpt_path=\"./src/model/tacotron2_pretrained.pt\", z_dim=64, spk_dim_raw=256, spk_dim_proj=128)\n",
    "model.to(device)\n",
    "\n",
    "optimizer = torch.optim.Adam(model.parameters(), lr=LR)\n",
    "model.train()\n",
    "\n",
    "loss_tracker = []\n",
    "\n",
    "for epoch in range(EPOCH):\n",
    "    loss_sum = 0\n",
    "    logsum = {'l1': 0, 'gate': 0, 'kl': 0}\n",
    "\n",
    "    pbar = tqdm(dataloader, desc=f\"Epoch {epoch+1}/{EPOCH}\", leave=False, position=0, dynamic_ncols=True)\n",
    "\n",
    "    for text, text_len, mel, mel_len, gate, spk_id in pbar:\n",
    "        print(f\"Processing batch with text length {text_len} and mel length {mel_len}\")\n",
    "        text, text_len = text.to(device), text_len.to(device)\n",
    "        mel, gate = mel.to(device), gate.to(device)\n",
    "        spk_emd = model.spk_emb[spk_id].to(device)\n",
    "\n",
    "        mel_post, mel_out, gate_out, mu, logvar = model(text, text_len, mel, spk_emd)\n",
    "        loss, logs = cvae_taco_loss(mel_post, mel, gate_out, gate, mu, logvar)        \n",
    "\n",
    "        optimizer.zero_grad()\n",
    "        loss.backward()\n",
    "        optimizer.step()\n",
    "\n",
    "        loss_sum += loss.item()\n",
    "        logsum['l1'] += logs['l1']\n",
    "        logsum['gate'] += logs['gate']\n",
    "        logsum['kl'] += logs['kl']\n",
    "\n",
    "        pbar.set_postfix(loss=loss.item(), l1=logs['l1'], gate=logs['gate'], kl=logs['kl'])\n",
    "        break\n",
    "\n",
    "    loss_avg = loss_sum / len(dataloader)\n",
    "    loss_tracker.append(loss_avg)\n",
    "    print(f\"[Epoch {epoch+1}/{EPOCH}] Loss: {loss_avg:.4f} | l1: {logsum['l1'] / len(dataloader):.4f}, gate: {logsum['gate'] / len(dataloader):.4f}, kl: {logsum['kl'] / len(dataloader):.4f}\")\n",
    "\n",
    "plt.plot(loss_tracker)\n",
    "plt.xlabel('Epoch')\n",
    "plt.ylabel('Loss')\n",
    "plt.title('Training Loss')\n",
    "plt.grid()\n",
    "plt.show()\n",
    "\n",
    "model_save_path = Path(\"./src/model/cvae_tacotron2_trial1.pth\")\n",
    "torch.save(model.state_dict(), model_save_path)\n",
    "print(f\"Model saved to {model_save_path}\")"
   ]
  },
  {
   "cell_type": "code",
   "execution_count": 4,
   "id": "d9277f41",
   "metadata": {},
   "outputs": [
    {
     "ename": "ValueError",
     "evalue": "not enough values to unpack (expected 6, got 3)",
     "output_type": "error",
     "traceback": [
      "\u001b[31m---------------------------------------------------------------------------\u001b[39m",
      "\u001b[31mValueError\u001b[39m                                Traceback (most recent call last)",
      "\u001b[36mCell\u001b[39m\u001b[36m \u001b[39m\u001b[32mIn[4]\u001b[39m\u001b[32m, line 2\u001b[39m\n\u001b[32m      1\u001b[39m dataloader = DataLoader(dataset, batch_size=\u001b[32m1\u001b[39m, shuffle=\u001b[38;5;28;01mFalse\u001b[39;00m)\n\u001b[32m----> \u001b[39m\u001b[32m2\u001b[39m text, text_len, mel, mel_len, gate, spk_id = \u001b[38;5;28mnext\u001b[39m(\u001b[38;5;28miter\u001b[39m(dataloader))\n\u001b[32m      3\u001b[39m text, text_len = text.to(device), text_len.to(device)\n\u001b[32m      4\u001b[39m mel, gate = mel.to(device), gate.to(device)\n",
      "\u001b[31mValueError\u001b[39m: not enough values to unpack (expected 6, got 3)"
     ]
    }
   ],
   "source": [
    "\n",
    "dataloader = DataLoader(dataset, batch_size=1, shuffle=False)\n",
    "text, text_len, mel, mel_len, gate, spk_id = next(iter(dataloader))\n",
    "text, text_len = text.to(device), text_len.to(device)\n",
    "mel, gate = mel.to(device), gate.to(device)\n",
    "spk_emd = model.spk_emb[spk_id].to(device)\n",
    "mel_post, mel_out, gate_out, mu, logvar = model(text, text_len, mel, spk_emd)\n",
    "plt.figure(figsize=(10, 4))\n",
    "plt.subplot(1, 2, 1)\n",
    "plt.imshow(mel_post[0].cpu().detach().numpy(), aspect='auto', origin='lower')\n",
    "plt.title('Mel Post')\n",
    "plt.subplot(1, 2, 2)\n",
    "\n",
    "\n",
    "\n",
    "    "
   ]
  }
 ],
 "metadata": {
  "kernelspec": {
   "display_name": ".venv (3.11.1)",
   "language": "python",
   "name": "python3"
  },
  "language_info": {
   "codemirror_mode": {
    "name": "ipython",
    "version": 3
   },
   "file_extension": ".py",
   "mimetype": "text/x-python",
   "name": "python",
   "nbconvert_exporter": "python",
   "pygments_lexer": "ipython3",
   "version": "3.11.1"
  }
 },
 "nbformat": 4,
 "nbformat_minor": 5
}
