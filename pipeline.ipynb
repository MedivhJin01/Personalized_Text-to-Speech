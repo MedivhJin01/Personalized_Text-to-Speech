{
 "cells": [
  {
   "cell_type": "code",
   "execution_count": 1,
   "id": "82d9048f",
   "metadata": {},
   "outputs": [],
   "source": [
    "from torch.utils.data import DataLoader\n",
    "from utils.dataset_vctk import VCTK_Dataset\n",
    "\n"
   ]
  },
  {
   "cell_type": "code",
   "execution_count": 2,
   "id": "e8434970",
   "metadata": {},
   "outputs": [],
   "source": [
    "dataset = VCTK_Dataset(\"./dataset/VCTK\", limit_speakers=10)\n",
    "loader = DataLoader(dataset, batch_size=32, shuffle=True, num_workers=4,\n",
    "                    collate_fn=VCTK_Dataset.collate_fn)\n"
   ]
  },
  {
   "cell_type": "code",
   "execution_count": 3,
   "id": "52197cb1",
   "metadata": {},
   "outputs": [
    {
     "name": "stdout",
     "output_type": "stream",
     "text": [
      "pad Text shape: torch.Size([32, 67]), pad Mel shape: torch.Size([32, 80, 437]), Speaker IDs: tensor([7, 2, 8, 5, 0, 1, 6, 3, 7, 7, 2, 4, 5, 6, 1, 7, 7, 2, 8, 6, 8, 8, 8, 0,\n",
      "        1, 2, 2, 5, 5, 5, 6, 6])\n",
      "Text lengths: tensor([17, 57, 36, 48, 22, 16, 31, 49, 29, 36, 44, 36, 22, 27, 28, 40, 56, 23,\n",
      "        36, 44, 27, 58, 32, 28, 30, 25, 19, 26, 25, 26, 67, 57]), Mel lengths: tensor([148, 330, 265, 437, 243, 187, 203, 324, 181, 206, 285, 218, 211, 173,\n",
      "        232, 244, 292, 211, 281, 234, 215, 324, 246, 218, 232, 233, 193, 219,\n",
      "        234, 241, 293, 280])\n"
     ]
    }
   ],
   "source": [
    "for batch in loader:\n",
    "    text_pad, text_lens, mel_pad, mel_lens, spk_ids = batch\n",
    "    print(f\"pad Text shape: {text_pad.shape}, pad Mel shape: {mel_pad.shape}, Speaker IDs: {spk_ids}\")\n",
    "    print(f\"Text lengths: {text_lens}, Mel lengths: {mel_lens}\")\n",
    "    break  # Just to test the first batch"
   ]
  }
 ],
 "metadata": {
  "kernelspec": {
   "display_name": ".venv (3.11.1)",
   "language": "python",
   "name": "python3"
  },
  "language_info": {
   "codemirror_mode": {
    "name": "ipython",
    "version": 3
   },
   "file_extension": ".py",
   "mimetype": "text/x-python",
   "name": "python",
   "nbconvert_exporter": "python",
   "pygments_lexer": "ipython3",
   "version": "3.11.1"
  }
 },
 "nbformat": 4,
 "nbformat_minor": 5
}
